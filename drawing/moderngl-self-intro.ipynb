{
 "cells": [
  {
   "cell_type": "code",
   "id": "initial_id",
   "metadata": {
    "collapsed": true,
    "ExecuteTime": {
     "end_time": "2024-12-29T21:50:14.066561Z",
     "start_time": "2024-12-29T21:50:13.886923Z"
    }
   },
   "source": "import moderngl as mgl",
   "outputs": [],
   "execution_count": 2
  },
  {
   "metadata": {
    "ExecuteTime": {
     "end_time": "2024-12-29T21:50:13.730185500Z",
     "start_time": "2024-12-29T06:13:24.329514Z"
    }
   },
   "cell_type": "code",
   "source": "import numpy as np",
   "id": "1b133efecac80196",
   "outputs": [],
   "execution_count": 24
  },
  {
   "metadata": {},
   "cell_type": "code",
   "source": [
    "import pygame\n",
    "\n",
    "# Initialize Pygame\n",
    "pygame.init()\n",
    "window = pygame.display.set_mode((800, 600), pygame.OPENGL | pygame.DOUBLEBUF)\n",
    "clock = pygame.time.Clock()\n",
    "\n",
    "# Create a ModernGL context\n",
    "ctx = mgl.create_context()\n",
    "\n",
    "# Define vertex positions\n",
    "vertices = np.array([\n",
    "\t-0.5, -0.5,  # Bottom left\n",
    "\t0.5, -0.5,   # Bottom right\n",
    "\t0.0,  0.5,   # Top center\n",
    "], dtype='float32')\n",
    "\n",
    "# Create a vertex buffer object (VBO)\n",
    "vbo = ctx.buffer(vertices.tobytes())\n",
    "\n",
    "# Define the shader program\n",
    "prog = ctx.program(\n",
    "\tvertex_shader='''\n",
    "        #version 330\n",
    "        in vec2 in_vert;\n",
    "        void main() {\n",
    "            gl_Position = vec4(in_vert, 0.0, 1.0);\n",
    "        }\n",
    "    ''',\n",
    "\tfragment_shader='''\n",
    "        #version 330\n",
    "        out vec4 out_color;\n",
    "        void main() {\n",
    "            out_color = vec4(1.0, 0.0, 0.0, 1.0);\n",
    "        }\n",
    "    '''\n",
    ")\n",
    "\n",
    "# Create a Vertex Array Object (VAO)\n",
    "vao = ctx.simple_vertex_array(prog, vbo, 'in_vert')\n",
    "\n",
    "# Main loop\n",
    "running = True\n",
    "while running:\n",
    "\tfor event in pygame.event.get():\n",
    "\t\tif event.type == pygame.QUIT:\n",
    "\t\t\trunning = False\n",
    "\n",
    "\t# Clear the screen\n",
    "\tctx.clear(0.0, 0.0, 0.0)\n",
    "\n",
    "\t# Render the triangle\n",
    "\tvao.render()\n",
    "\n",
    "\t# Swap the buffers\n",
    "\tpygame.display.flip()\n",
    "\n",
    "\t# Limit frames per second\n",
    "\tclock.tick(60)\n",
    "\n",
    "pygame.quit()\n"
   ],
   "id": "1a728158eac9676e",
   "outputs": [],
   "execution_count": null
  },
  {
   "metadata": {
    "ExecuteTime": {
     "end_time": "2024-12-29T21:50:13.773510800Z",
     "start_time": "2024-12-29T07:01:03.550111Z"
    }
   },
   "cell_type": "code",
   "source": [
    "import math\n",
    "\n",
    "def get_primitive_bends(n: int):\n",
    "\tif n == 0:\n",
    "\t\tyield 0, 0, 1, 1\n",
    "\t\treturn\n",
    "\tfor m in range(math.ceil(n / math.sqrt(3))):\n",
    "\t\ts = m**2 + n**2\n",
    "\t\tfor d1 in range(max(2 * m, 1), math.floor(math.sqrt(s)) + 1):\n",
    "\t\t\td2, remainder = divmod(s, d1)\n",
    "\t\t\tif remainder == 0 and math.gcd(n, d1, d2) == 1:\n",
    "\t\t\t\tyield -n, d1 + n, d2 + n, d1 + d2 + n - 2 * m\n",
    "\n",
    "for n in range(15):\n",
    "\tfor bends in get_primitive_bends(n):\n",
    "\t\tprint(bends)"
   ],
   "id": "bdf8238255b03bd4",
   "outputs": [
    {
     "name": "stdout",
     "output_type": "stream",
     "text": [
      "(0, 0, 1, 1)\n",
      "(-1, 2, 2, 3)\n",
      "(-2, 3, 6, 7)\n",
      "(-3, 4, 12, 13)\n",
      "(-3, 5, 8, 8)\n",
      "(-4, 5, 20, 21)\n",
      "(-4, 8, 9, 9)\n",
      "(-5, 6, 30, 31)\n",
      "(-5, 7, 18, 18)\n",
      "(-6, 7, 42, 43)\n",
      "(-6, 10, 15, 19)\n",
      "(-6, 11, 14, 15)\n",
      "(-7, 8, 56, 57)\n",
      "(-7, 9, 32, 32)\n",
      "(-7, 12, 17, 20)\n",
      "(-8, 9, 72, 73)\n",
      "(-8, 13, 21, 24)\n",
      "(-8, 12, 25, 25)\n",
      "(-9, 10, 90, 91)\n",
      "(-9, 11, 50, 50)\n",
      "(-9, 14, 26, 27)\n",
      "(-9, 18, 19, 22)\n",
      "(-10, 11, 110, 111)\n",
      "(-10, 14, 35, 39)\n",
      "(-10, 18, 23, 27)\n",
      "(-11, 12, 132, 133)\n",
      "(-11, 13, 72, 72)\n",
      "(-11, 16, 36, 37)\n",
      "(-11, 21, 24, 28)\n",
      "(-12, 13, 156, 157)\n",
      "(-12, 21, 28, 37)\n",
      "(-12, 17, 41, 44)\n",
      "(-12, 16, 49, 49)\n",
      "(-12, 21, 29, 32)\n",
      "(-12, 25, 25, 28)\n",
      "(-13, 14, 182, 183)\n",
      "(-13, 15, 98, 98)\n",
      "(-13, 18, 47, 50)\n",
      "(-13, 23, 30, 38)\n",
      "(-14, 15, 210, 211)\n",
      "(-14, 18, 63, 67)\n",
      "(-14, 19, 54, 55)\n",
      "(-14, 22, 39, 43)\n",
      "(-14, 27, 31, 34)\n"
     ]
    }
   ],
   "execution_count": 1
  },
  {
   "metadata": {},
   "cell_type": "code",
   "outputs": [],
   "execution_count": null,
   "source": "",
   "id": "cb3d977bf0303cc2"
  }
 ],
 "metadata": {
  "kernelspec": {
   "display_name": "Python 3",
   "language": "python",
   "name": "python3"
  },
  "language_info": {
   "codemirror_mode": {
    "name": "ipython",
    "version": 2
   },
   "file_extension": ".py",
   "mimetype": "text/x-python",
   "name": "python",
   "nbconvert_exporter": "python",
   "pygments_lexer": "ipython2",
   "version": "2.7.6"
  }
 },
 "nbformat": 4,
 "nbformat_minor": 5
}
