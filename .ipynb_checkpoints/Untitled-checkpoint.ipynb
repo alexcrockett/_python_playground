{
 "cells": [
  {
   "metadata": {},
   "cell_type": "raw",
   "source": "",
   "id": "f3023d176de6e51a"
  }
 ],
 "metadata": {},
 "nbformat": 4,
 "nbformat_minor": 5
}
