{
 "cells": [
  {
   "metadata": {},
   "cell_type": "markdown",
   "source": [
    "For this little program we used the following API:\n",
    "\n",
    "https://api.spaceflightnewsapi.net/v4/docs/"
   ],
   "id": "917c044cfb47e093"
  },
  {
   "cell_type": "code",
   "id": "initial_id",
   "metadata": {
    "collapsed": true,
    "ExecuteTime": {
     "end_time": "2024-11-22T08:14:23.291221Z",
     "start_time": "2024-11-22T08:14:23.286047Z"
    }
   },
   "source": [
    "import requests\n",
    "import json"
   ],
   "outputs": [],
   "execution_count": 18
  },
  {
   "metadata": {
    "ExecuteTime": {
     "end_time": "2024-11-22T08:16:55.658787Z",
     "start_time": "2024-11-22T08:16:54.586415Z"
    }
   },
   "cell_type": "code",
   "source": [
    "space_flight_api = \"https://api.spaceflightnewsapi.net/v4/articles/?has_event=true&has_launch=true&is_featured=true&limit=3\"\n",
    "space_flight_news = requests.get(space_flight_api).json()\n",
    "response_json = space_flight_news\n",
    "articles = response_json['results']\n",
    "for article in articles:\n",
    "\tprint(f\"Title: {article['title']}\")\n",
    "\tprint(f\"Summary: {article['summary']}\")\n",
    "\tprint(\"\\nMore information below:\\n\")\n",
    "\tprint(f\"URL: {article['url']}\") \n",
    "\tprint(f\"Image URL: {article['image_url']}\") \n",
    "\tprint(f\"News Site: {article['news_site']}\") \n",
    "\tprint(f\"Published At: {article['published_at']}\") \n",
    "\tprint(f\"Updated At: {article['updated_at']}\") \n",
    "\tprint(f\"Featured: {article['featured']}\") \n",
    "\tprint(f\"Launches: {', '.join([launch['provider'] for launch in article['launches']])}\") \n",
    "\tprint(f\"Events: {', '.join([event['provider'] for event in article['events']])}\") \n",
    "\tprint(\"\\n\" + \"-\"*50 + \"\\n\")"
   ],
   "id": "2a1103f08c330443",
   "outputs": [
    {
     "name": "stdout",
     "output_type": "stream",
     "text": [
      "Title: After Three Years on Mars, NASA's Ingenuity Helicopter Mission Ends\n",
      "Summary: NASA has proven powered, controlled flight is possible on other worlds, just as the Wright brothers proved it was possible on Earth.\n",
      "\n",
      "More information below:\n",
      "\n",
      "URL: https://mars.nasa.gov/news/9540/\n",
      "Image URL: https://mars.nasa.gov/system/news_items/main_images/9540_PIA25968.jpg\n",
      "News Site: NASA\n",
      "Published At: 2024-01-25T20:00:00Z\n",
      "Updated At: 2024-01-26T07:22:36.678000Z\n",
      "Featured: True\n",
      "Launches: Launch Library 2\n",
      "Events: Launch Library 2\n",
      "\n",
      "--------------------------------------------------\n",
      "\n",
      "Title: NASA delays crewed Artemis moon missions into 2025 as companies navigate challenges\n",
      "Summary: NASA is pushing back the schedule for upcoming missions of its flagship Artemis lunar program by about a year as the agency’s contractors work to finish technology needed to return U.S. astronauts to the moon’s surface.\n",
      "\n",
      "More information below:\n",
      "\n",
      "URL: https://www.cnbc.com/2024/01/09/nasa-delays-crewed-artemis-moon-missions.html\n",
      "Image URL: https://image.cnbcfm.com/api/v1/image/107301459-1694782519405-gettyimages-1667779661-20090101230915-99-206036.jpeg\n",
      "News Site: CNBC\n",
      "Published At: 2024-01-09T19:46:40Z\n",
      "Updated At: 2024-01-10T17:23:35.311000Z\n",
      "Featured: True\n",
      "Launches: Launch Library 2, Launch Library 2\n",
      "Events: Launch Library 2\n",
      "\n",
      "--------------------------------------------------\n",
      "\n",
      "Title: India becomes fourth country to land on the moon, first on south pole, with Chandrayaan-3 spacecraft\n",
      "Summary: India staked new claim as a national superpower in space, landing its Chandrayaan-3 mission safely on the moon’s unexplored south pole on Wednesday.\n",
      "\n",
      "More information below:\n",
      "\n",
      "URL: https://www.cnbc.com/2023/08/23/india-chandrayaan-3-moon-mission.html\n",
      "Image URL: https://image.cnbcfm.com/api/v1/image/107290501-1692777088868-gettyimages-1531892466-AFP_33P37G8.jpeg\n",
      "News Site: CNBC\n",
      "Published At: 2023-08-23T12:25:14Z\n",
      "Updated At: 2023-08-23T12:46:57.463000Z\n",
      "Featured: True\n",
      "Launches: Launch Library 2\n",
      "Events: Launch Library 2\n",
      "\n",
      "--------------------------------------------------\n",
      "\n"
     ]
    }
   ],
   "execution_count": 21
  },
  {
   "metadata": {},
   "cell_type": "code",
   "outputs": [],
   "execution_count": null,
   "source": "",
   "id": "6e36414899750448"
  }
 ],
 "metadata": {
  "kernelspec": {
   "display_name": "Python 3",
   "language": "python",
   "name": "python3"
  },
  "language_info": {
   "codemirror_mode": {
    "name": "ipython",
    "version": 2
   },
   "file_extension": ".py",
   "mimetype": "text/x-python",
   "name": "python",
   "nbconvert_exporter": "python",
   "pygments_lexer": "ipython2",
   "version": "2.7.6"
  }
 },
 "nbformat": 4,
 "nbformat_minor": 5
}
