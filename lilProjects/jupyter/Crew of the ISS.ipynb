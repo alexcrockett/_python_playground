{
 "cells": [
  {
   "cell_type": "code",
   "id": "initial_id",
   "metadata": {
    "collapsed": true,
    "ExecuteTime": {
     "end_time": "2024-07-02T07:38:31.516553Z",
     "start_time": "2024-07-02T07:38:31.386558Z"
    }
   },
   "source": [
    "# Import the requests library\n",
    "import requests"
   ],
   "outputs": [],
   "execution_count": 1
  },
  {
   "metadata": {
    "ExecuteTime": {
     "end_time": "2024-07-02T07:38:36.333657Z",
     "start_time": "2024-07-02T07:38:36.231971Z"
    }
   },
   "cell_type": "code",
   "source": [
    "# For learning, pulling in an easy to use API\n",
    "response = requests.get(\"http://api.open-notify.org/astros\") \n",
    "print(response.status_code)"
   ],
   "id": "71b7f8d8a20bb47f",
   "outputs": [
    {
     "name": "stdout",
     "output_type": "stream",
     "text": [
      "200\n"
     ]
    }
   ],
   "execution_count": 2
  },
  {
   "metadata": {
    "ExecuteTime": {
     "end_time": "2024-07-02T07:38:39.472912Z",
     "start_time": "2024-07-02T07:38:39.466503Z"
    }
   },
   "cell_type": "code",
   "source": [
    "# Printing the result\n",
    "print(response.json())"
   ],
   "id": "21c53dcaabd49457",
   "outputs": [
    {
     "name": "stdout",
     "output_type": "stream",
     "text": [
      "{'people': [{'craft': 'ISS', 'name': 'Oleg Kononenko'}, {'craft': 'ISS', 'name': 'Nikolai Chub'}, {'craft': 'ISS', 'name': 'Tracy Caldwell Dyson'}, {'craft': 'ISS', 'name': 'Matthew Dominick'}, {'craft': 'ISS', 'name': 'Michael Barratt'}, {'craft': 'ISS', 'name': 'Jeanette Epps'}, {'craft': 'ISS', 'name': 'Alexander Grebenkin'}, {'craft': 'ISS', 'name': 'Butch Wilmore'}, {'craft': 'ISS', 'name': 'Sunita Williams'}, {'craft': 'Tiangong', 'name': 'Li Guangsu'}, {'craft': 'Tiangong', 'name': 'Li Cong'}, {'craft': 'Tiangong', 'name': 'Ye Guangfu'}], 'number': 12, 'message': 'success'}\n"
     ]
    }
   ],
   "execution_count": 3
  },
  {
   "metadata": {
    "ExecuteTime": {
     "end_time": "2024-07-02T07:44:44.243647Z",
     "start_time": "2024-07-02T07:44:44.231341Z"
    }
   },
   "cell_type": "code",
   "source": [
    "import json\n",
    "\n",
    "# Simulating the JSON string as received from an API\n",
    "space_data = {\n",
    "    \"people\": [\n",
    "        {\"craft\": \"ISS\", \"name\": \"Oleg Kononenko\"},\n",
    "        {\"craft\": \"ISS\", \"name\": \"Nikolai Chub\"},\n",
    "        {\"craft\": \"ISS\", \"name\": \"Tracy Caldwell Dyson\"},\n",
    "        {\"craft\": \"ISS\", \"name\": \"Matthew Dominick\"},\n",
    "        {\"craft\": \"ISS\", \"name\": \"Michael Barratt\"},\n",
    "        {\"craft\": \"ISS\", \"name\": \"Jeanette Epps\"},\n",
    "        {\"craft\": \"ISS\", \"name\": \"Alexander Grebenkin\"},\n",
    "        {\"craft\": \"ISS\", \"name\": \"Butch Wilmore\"},\n",
    "        {\"craft\": \"ISS\", \"name\": \"Sunita Williams\"},\n",
    "        {\"craft\": \"Tiangong\", \"name\": \"Li Guangsu\"},\n",
    "        {\"craft\": \"Tiangong\", \"name\": \"Li Cong\"},\n",
    "        {\"craft\": \"Tiangong\", \"name\": \"Ye Guangfu\"}\n",
    "    ],\n",
    "}\n",
    "\n",
    "json_string = json.dumps(space_data)\n",
    "print(json_string)"
   ],
   "id": "b29cc2ddd66c6db8",
   "outputs": [
    {
     "name": "stdout",
     "output_type": "stream",
     "text": [
      "{\"people\": [{\"craft\": \"ISS\", \"name\": \"Oleg Kononenko\"}, {\"craft\": \"ISS\", \"name\": \"Nikolai Chub\"}, {\"craft\": \"ISS\", \"name\": \"Tracy Caldwell Dyson\"}, {\"craft\": \"ISS\", \"name\": \"Matthew Dominick\"}, {\"craft\": \"ISS\", \"name\": \"Michael Barratt\"}, {\"craft\": \"ISS\", \"name\": \"Jeanette Epps\"}, {\"craft\": \"ISS\", \"name\": \"Alexander Grebenkin\"}, {\"craft\": \"ISS\", \"name\": \"Butch Wilmore\"}, {\"craft\": \"ISS\", \"name\": \"Sunita Williams\"}, {\"craft\": \"Tiangong\", \"name\": \"Li Guangsu\"}, {\"craft\": \"Tiangong\", \"name\": \"Li Cong\"}, {\"craft\": \"Tiangong\", \"name\": \"Ye Guangfu\"}]}\n"
     ]
    }
   ],
   "execution_count": 7
  },
  {
   "metadata": {
    "ExecuteTime": {
     "end_time": "2024-07-02T07:46:53.378117Z",
     "start_time": "2024-07-02T07:46:45.546968Z"
    }
   },
   "cell_type": "code",
   "source": [
    "import pandas as pd\n",
    "\n",
    "# Assuming data is already loaded as a dictionary as above\n",
    "people_data = space_data['people']  # This is a list of dictionaries\n",
    "\n",
    "# Convert this list of dictionaries into a DataFrame\n",
    "df = pd.DataFrame(people_data)\n",
    "\n",
    "# Display the DataFrame\n",
    "print(df)"
   ],
   "id": "22016abfb8c9e720",
   "outputs": [
    {
     "name": "stdout",
     "output_type": "stream",
     "text": [
      "       craft                  name\n",
      "0        ISS        Oleg Kononenko\n",
      "1        ISS          Nikolai Chub\n",
      "2        ISS  Tracy Caldwell Dyson\n",
      "3        ISS      Matthew Dominick\n",
      "4        ISS       Michael Barratt\n",
      "5        ISS         Jeanette Epps\n",
      "6        ISS   Alexander Grebenkin\n",
      "7        ISS         Butch Wilmore\n",
      "8        ISS       Sunita Williams\n",
      "9   Tiangong            Li Guangsu\n",
      "10  Tiangong               Li Cong\n",
      "11  Tiangong            Ye Guangfu\n"
     ]
    }
   ],
   "execution_count": 8
  },
  {
   "metadata": {},
   "cell_type": "code",
   "outputs": [],
   "execution_count": null,
   "source": "",
   "id": "76072a26f81872f4"
  }
 ],
 "metadata": {
  "kernelspec": {
   "display_name": "Python 3",
   "language": "python",
   "name": "python3"
  },
  "language_info": {
   "codemirror_mode": {
    "name": "ipython",
    "version": 2
   },
   "file_extension": ".py",
   "mimetype": "text/x-python",
   "name": "python",
   "nbconvert_exporter": "python",
   "pygments_lexer": "ipython2",
   "version": "2.7.6"
  }
 },
 "nbformat": 4,
 "nbformat_minor": 5
}
