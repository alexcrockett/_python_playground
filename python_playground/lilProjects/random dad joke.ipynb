{
 "cells": [
  {
   "cell_type": "code",
   "id": "initial_id",
   "metadata": {
    "collapsed": true,
    "ExecuteTime": {
     "end_time": "2024-12-29T00:59:24.337881Z",
     "start_time": "2024-12-29T00:59:24.332976Z"
    }
   },
   "source": "import requests",
   "outputs": [],
   "execution_count": 5
  },
  {
   "metadata": {
    "ExecuteTime": {
     "end_time": "2024-12-29T00:59:26.669283Z",
     "start_time": "2024-12-29T00:59:24.387898Z"
    }
   },
   "cell_type": "code",
   "source": [
    "api_url = \"https://official-joke-api.appspot.com/random_joke\"\n",
    "response = requests.get(api_url)\n",
    "if response.status_code == 200:\n",
    "\tjoke = response.json()\n",
    "if joke:\n",
    "\tprint(f\"Here's a joke for you:\\n{joke['setup']}\")\n",
    "\tprint(f\"{joke['punchline']}\")\n",
    "else:\n",
    "\tprint(\"No joke found in the response.\")"
   ],
   "id": "c3a837f919043a7f",
   "outputs": [
    {
     "name": "stdout",
     "output_type": "stream",
     "text": [
      "Here's a joke for you:\n",
      "What’s brown and sounds like a bell?\n",
      "Dung!\n"
     ]
    }
   ],
   "execution_count": 6
  },
  {
   "metadata": {
    "ExecuteTime": {
     "end_time": "2024-12-29T00:59:26.696437Z",
     "start_time": "2024-12-29T00:59:26.691826Z"
    }
   },
   "cell_type": "code",
   "source": " ",
   "id": "98f758da5582809c",
   "outputs": [],
   "execution_count": 6
  }
 ],
 "metadata": {
  "kernelspec": {
   "display_name": "Python 3",
   "language": "python",
   "name": "python3"
  },
  "language_info": {
   "codemirror_mode": {
    "name": "ipython",
    "version": 2
   },
   "file_extension": ".py",
   "mimetype": "text/x-python",
   "name": "python",
   "nbconvert_exporter": "python",
   "pygments_lexer": "ipython2",
   "version": "2.7.6"
  }
 },
 "nbformat": 4,
 "nbformat_minor": 5
}
