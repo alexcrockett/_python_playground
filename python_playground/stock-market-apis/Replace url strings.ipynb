{
 "cells": [
  {
   "cell_type": "code",
   "id": "initial_id",
   "metadata": {
    "collapsed": true,
    "ExecuteTime": {
     "end_time": "2024-11-24T09:14:36.041648Z",
     "start_time": "2024-11-24T09:14:36.015985Z"
    }
   },
   "source": [
    "# Method 1\n",
    "\n",
    "# Original URL\n",
    "url = 'https://www.alphavantage.co/query?function=TIME_SERIES_WEEKLY&symbol=NOBL&apikey=<Enter your Key Here>'\n",
    "\n",
    "# New ticker symbol\n",
    "new_ticker = 'AAPL'\n",
    "\n",
    "# Replace the ticker symbol\n",
    "new_url = url.replace('NOBL', new_ticker)\n",
    "\n",
    "print(new_url)\n"
   ],
   "outputs": [
    {
     "name": "stdout",
     "output_type": "stream",
     "text": [
      "https://www.alphavantage.co/query?function=TIME_SERIES_WEEKLY&symbol=AAPL&apikey=S12QBVHPYQA165DV\n"
     ]
    }
   ],
   "execution_count": 1
  },
  {
   "metadata": {
    "ExecuteTime": {
     "end_time": "2024-11-24T09:15:16.827026Z",
     "start_time": "2024-11-24T09:15:16.795958Z"
    }
   },
   "cell_type": "code",
   "source": [
    "# Method 2\n",
    "import urllib.parse\n",
    "\n",
    "# Original URL\n",
    "url = 'https://www.alphavantage.co/query?function=TIME_SERIES_WEEKLY&symbol=NOBL&apikey=<enter api key here>'\n",
    "\n",
    "# Parse the URL into components\n",
    "parsed_url = urllib.parse.urlparse(url)\n",
    "query_params = urllib.parse.parse_qs(parsed_url.query)\n",
    "\n",
    "# New ticker symbol\n",
    "new_ticker = 'AAPL'\n",
    "\n",
    "# Update the symbol in query parameters\n",
    "query_params['symbol'] = new_ticker\n",
    "\n",
    "# Rebuild the URL with the updated query parameters\n",
    "new_query = urllib.parse.urlencode(query_params, doseq=True)\n",
    "new_url = urllib.parse.urlunparse(parsed_url._replace(query=new_query))\n",
    "\n",
    "print(new_url)\n"
   ],
   "id": "11da2a2adbc5dd75",
   "outputs": [
    {
     "name": "stdout",
     "output_type": "stream",
     "text": [
      "https://www.alphavantage.co/query?function=TIME_SERIES_WEEKLY&symbol=AAPL&apikey=S12QBVHPYQA165DV\n"
     ]
    }
   ],
   "execution_count": 2
  },
  {
   "metadata": {},
   "cell_type": "code",
   "outputs": [],
   "execution_count": null,
   "source": "",
   "id": "f219d5a381a0e9d0"
  }
 ],
 "metadata": {
  "kernelspec": {
   "display_name": "Python 3",
   "language": "python",
   "name": "python3"
  },
  "language_info": {
   "codemirror_mode": {
    "name": "ipython",
    "version": 2
   },
   "file_extension": ".py",
   "mimetype": "text/x-python",
   "name": "python",
   "nbconvert_exporter": "python",
   "pygments_lexer": "ipython2",
   "version": "2.7.6"
  }
 },
 "nbformat": 4,
 "nbformat_minor": 5
}
